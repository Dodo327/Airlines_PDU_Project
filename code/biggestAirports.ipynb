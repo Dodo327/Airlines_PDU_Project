{
 "cells": [
  {
   "cell_type": "code",
   "execution_count": null,
   "metadata": {},
   "outputs": [],
   "source": [
    "# Kod dla wykresu z lotniskami z największą liczbą odlotów i przylotów"
   ]
  },
  {
   "cell_type": "code",
   "execution_count": 1,
   "metadata": {},
   "outputs": [],
   "source": [
    "import pandas as pd \n",
    "import numpy as np\n",
    "from util.getData import *\n",
    "import matplotlib.pyplot as plt\n",
    "import warnings\n",
    "warnings.filterwarnings('ignore')"
   ]
  },
  {
   "cell_type": "code",
   "execution_count": 2,
   "metadata": {},
   "outputs": [],
   "source": [
    "dfDep = getData([\"Origin\", \"Dest\"])\n",
    "dfArr = getData([\"Origin\", \"Dest\"])"
   ]
  },
  {
   "cell_type": "code",
   "execution_count": 3,
   "metadata": {},
   "outputs": [],
   "source": [
    "dfAirports = getAirports()\n",
    "dfAirports = dfAirports[[\"iata\", \"airport\"]]"
   ]
  },
  {
   "cell_type": "code",
   "execution_count": 4,
   "metadata": {},
   "outputs": [],
   "source": [
    "dfDep[\"Departures\"] = dfDep.groupby(\"Origin\")[\"Origin\"].transform(\"count\")\n",
    "dfArr[\"Arrivals\"] = dfArr.groupby(\"Dest\")[\"Dest\"].transform(\"count\")\n",
    "dfDep2 = dfDep[[\"Origin\", \"Departures\"]]\n",
    "dfArr2 = dfArr[[\"Dest\", \"Arrivals\"]]"
   ]
  },
  {
   "cell_type": "code",
   "execution_count": 5,
   "metadata": {},
   "outputs": [],
   "source": [
    "dfDep2 = dfDep2.drop_duplicates()\n",
    "dfArr2 = dfArr2.drop_duplicates()"
   ]
  },
  {
   "cell_type": "code",
   "execution_count": 6,
   "metadata": {},
   "outputs": [
    {
     "name": "stdout",
     "output_type": "stream",
     "text": [
      "      Origin  Departures\n",
      "15187    ORD     6365070\n",
      "22119    ATL     5823454\n",
      "16439    DFW     5522740\n",
      "95       LAX     3946884\n",
      "111      PHX     3361073\n",
      "13847    DEN     3156846\n",
      "14317    DTW     2873349\n",
      "18507    IAH     2761895\n",
      "22507    MSP     2670366\n",
      "13533    STL     2667148\n",
      "      Dest  Arrivals\n",
      "14659  ORD   6405594\n",
      "22806  ATL   5816615\n",
      "22029  DFW   5557269\n",
      "111    LAX   3944759\n",
      "1544   PHX   3367745\n",
      "13986  DEN   3172169\n",
      "18974  DTW   2891314\n",
      "20014  IAH   2767348\n",
      "27135  MSP   2680547\n",
      "13507  STL   2678328\n"
     ]
    }
   ],
   "source": [
    "dfDep2 = dfDep2.sort_values(\"Departures\", ascending=False).head(10)\n",
    "dfArr2 = dfArr2.sort_values(\"Arrivals\", ascending=False).head(10)\n",
    "\n",
    "print(dfDep2)\n",
    "print(dfArr2)"
   ]
  },
  {
   "cell_type": "code",
   "execution_count": 7,
   "metadata": {},
   "outputs": [
    {
     "data": {
      "text/html": [
       "<div>\n",
       "<style scoped>\n",
       "    .dataframe tbody tr th:only-of-type {\n",
       "        vertical-align: middle;\n",
       "    }\n",
       "\n",
       "    .dataframe tbody tr th {\n",
       "        vertical-align: top;\n",
       "    }\n",
       "\n",
       "    .dataframe thead th {\n",
       "        text-align: right;\n",
       "    }\n",
       "</style>\n",
       "<table border=\"1\" class=\"dataframe\">\n",
       "  <thead>\n",
       "    <tr style=\"text-align: right;\">\n",
       "      <th></th>\n",
       "      <th>Dest</th>\n",
       "      <th>Departures</th>\n",
       "      <th>Arrivals</th>\n",
       "    </tr>\n",
       "  </thead>\n",
       "  <tbody>\n",
       "    <tr>\n",
       "      <th>0</th>\n",
       "      <td>ORD</td>\n",
       "      <td>6365070</td>\n",
       "      <td>6405594</td>\n",
       "    </tr>\n",
       "    <tr>\n",
       "      <th>1</th>\n",
       "      <td>ATL</td>\n",
       "      <td>5823454</td>\n",
       "      <td>5816615</td>\n",
       "    </tr>\n",
       "    <tr>\n",
       "      <th>2</th>\n",
       "      <td>DFW</td>\n",
       "      <td>5522740</td>\n",
       "      <td>5557269</td>\n",
       "    </tr>\n",
       "    <tr>\n",
       "      <th>3</th>\n",
       "      <td>LAX</td>\n",
       "      <td>3946884</td>\n",
       "      <td>3944759</td>\n",
       "    </tr>\n",
       "    <tr>\n",
       "      <th>4</th>\n",
       "      <td>PHX</td>\n",
       "      <td>3361073</td>\n",
       "      <td>3367745</td>\n",
       "    </tr>\n",
       "    <tr>\n",
       "      <th>5</th>\n",
       "      <td>DEN</td>\n",
       "      <td>3156846</td>\n",
       "      <td>3172169</td>\n",
       "    </tr>\n",
       "    <tr>\n",
       "      <th>6</th>\n",
       "      <td>DTW</td>\n",
       "      <td>2873349</td>\n",
       "      <td>2891314</td>\n",
       "    </tr>\n",
       "    <tr>\n",
       "      <th>7</th>\n",
       "      <td>IAH</td>\n",
       "      <td>2761895</td>\n",
       "      <td>2767348</td>\n",
       "    </tr>\n",
       "    <tr>\n",
       "      <th>8</th>\n",
       "      <td>MSP</td>\n",
       "      <td>2670366</td>\n",
       "      <td>2680547</td>\n",
       "    </tr>\n",
       "    <tr>\n",
       "      <th>9</th>\n",
       "      <td>STL</td>\n",
       "      <td>2667148</td>\n",
       "      <td>2678328</td>\n",
       "    </tr>\n",
       "  </tbody>\n",
       "</table>\n",
       "</div>"
      ],
      "text/plain": [
       "  Dest  Departures  Arrivals\n",
       "0  ORD     6365070   6405594\n",
       "1  ATL     5823454   5816615\n",
       "2  DFW     5522740   5557269\n",
       "3  LAX     3946884   3944759\n",
       "4  PHX     3361073   3367745\n",
       "5  DEN     3156846   3172169\n",
       "6  DTW     2873349   2891314\n",
       "7  IAH     2761895   2767348\n",
       "8  MSP     2670366   2680547\n",
       "9  STL     2667148   2678328"
      ]
     },
     "execution_count": 7,
     "metadata": {},
     "output_type": "execute_result"
    }
   ],
   "source": [
    "dfAirports2 = dfDep2.merge(dfArr2, left_on=\"Origin\", right_on=\"Dest\")\n",
    "dfAirports2 = dfAirports2[[\"Dest\", \"Departures\", \"Arrivals\"]]\n",
    "dfAirports2"
   ]
  },
  {
   "cell_type": "code",
   "execution_count": 8,
   "metadata": {},
   "outputs": [
    {
     "data": {
      "image/png": "[encoded data removed]",
      "text/plain": [
       "<Figure size 640x480 with 1 Axes>"
      ]
     },
     "metadata": {},
     "output_type": "display_data"
    }
   ],
   "source": [
    "dfAirports2.plot(kind='bar')\n",
    "plt.title(\"Number of Departures and Arrivals\")\n",
    "plt.xlabel(\"Airport\")\n",
    "plt.ylabel(\"Departures/Arrivals\")\n",
    "plt.xticks(np.arange(10), list(dfAirports2.Dest), rotation=45)\n",
    "plt.show()"
   ]
  }
 ],
 "metadata": {
  "kernelspec": {
   "display_name": "Python 3",
   "language": "python",
   "name": "python3"
  },
  "language_info": {
   "codemirror_mode": {
    "name": "ipython",
    "version": 3
   },
   "file_extension": ".py",
   "mimetype": "text/x-python",
   "name": "python",
   "nbconvert_exporter": "python",
   "pygments_lexer": "ipython3",
   "version": "3.9.13"
  },
  "orig_nbformat": 4
 },
 "nbformat": 4,
 "nbformat_minor": 2
}
